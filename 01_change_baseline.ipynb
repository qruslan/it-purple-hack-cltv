{
  "cells": [
    {
      "cell_type": "markdown",
      "id": "8b7bef09-9e86-4b19-bbb7-e0ccb7515328",
      "metadata": {
        "execution": {
          "iopub.execute_input": "2024-02-14T22:50:38.627643Z",
          "iopub.status.busy": "2024-02-14T22:50:38.627255Z",
          "iopub.status.idle": "2024-02-14T22:50:39.496067Z",
          "shell.execute_reply": "2024-02-14T22:50:39.495215Z",
          "shell.execute_reply.started": "2024-02-14T22:50:38.627616Z"
        },
        "id": "8b7bef09-9e86-4b19-bbb7-e0ccb7515328",
        "tags": []
      },
      "source": [
        "# Baseline"
      ]
    },
    {
      "cell_type": "code",
      "execution_count": 1,
      "id": "e0ddb399-18f4-4051-86c0-39f1c623eef5",
      "metadata": {
        "execution": {
          "iopub.execute_input": "2024-02-15T11:34:39.109032Z",
          "iopub.status.busy": "2024-02-15T11:34:39.108624Z",
          "iopub.status.idle": "2024-02-15T11:34:39.955360Z",
          "shell.execute_reply": "2024-02-15T11:34:39.954584Z",
          "shell.execute_reply.started": "2024-02-15T11:34:39.109007Z"
        },
        "id": "e0ddb399-18f4-4051-86c0-39f1c623eef5",
        "tags": []
      },
      "outputs": [],
      "source": [
        "import numpy as np\n",
        "import pandas as pd\n",
        "from lightgbm import LGBMClassifier\n",
        "from sklearn.metrics import roc_auc_score\n",
        "from sklearn.model_selection import train_test_split\n",
        "from catboost import CatBoostClassifier\n",
        "from sklearn.preprocessing import LabelEncoder"
      ]
    },
    {
      "cell_type": "code",
      "execution_count": 2,
      "id": "fb8c06e4",
      "metadata": {},
      "outputs": [],
      "source": [
        "def weighted_roc_auc(y_true, y_pred, labels, weights_dict):\n",
        "    unnorm_weights = np.array([weights_dict[label] for label in labels])\n",
        "    weights = unnorm_weights / unnorm_weights.sum()\n",
        "    classes_roc_auc = roc_auc_score(y_true, y_pred, labels=labels,\n",
        "                                    multi_class=\"ovr\", average=None)\n",
        "    return sum(weights * classes_roc_auc)"
      ]
    },
    {
      "cell_type": "markdown",
      "id": "cbcf3aae-5417-42a3-9ed2-818b9aef0f2f",
      "metadata": {
        "id": "cbcf3aae-5417-42a3-9ed2-818b9aef0f2f"
      },
      "source": [
        "## Загрузка данных"
      ]
    },
    {
      "cell_type": "code",
      "execution_count": 3,
      "id": "32c8b1b0-f95e-4cb5-bbc1-c0edb76568c1",
      "metadata": {
        "execution": {
          "iopub.execute_input": "2024-02-15T11:34:44.750723Z",
          "iopub.status.busy": "2024-02-15T11:34:44.750145Z",
          "iopub.status.idle": "2024-02-15T11:34:46.098228Z",
          "shell.execute_reply": "2024-02-15T11:34:46.097494Z",
          "shell.execute_reply.started": "2024-02-15T11:34:44.750694Z"
        },
        "id": "32c8b1b0-f95e-4cb5-bbc1-c0edb76568c1",
        "tags": []
      },
      "outputs": [
        {
          "data": {
            "text/plain": [
              "((600000, 93), (290120, 92))"
            ]
          },
          "execution_count": 3,
          "metadata": {},
          "output_type": "execute_result"
        }
      ],
      "source": [
        "train_df = pd.read_parquet(\"train_data.pqt\")\n",
        "test_df = pd.read_parquet(\"test_data.pqt\")\n",
        "train_df.shape, test_df.shape"
      ]
    },
    {
      "cell_type": "code",
      "execution_count": 4,
      "id": "05a1edfe-fcca-4945-a00d-c0b1627d1718",
      "metadata": {
        "execution": {
          "iopub.execute_input": "2024-02-14T23:09:54.232295Z",
          "iopub.status.busy": "2024-02-14T23:09:54.232055Z",
          "iopub.status.idle": "2024-02-14T23:09:54.256480Z",
          "shell.execute_reply": "2024-02-14T23:09:54.255966Z",
          "shell.execute_reply.started": "2024-02-14T23:09:54.232276Z"
        },
        "id": "05a1edfe-fcca-4945-a00d-c0b1627d1718",
        "tags": []
      },
      "outputs": [],
      "source": [
        "cat_cols = [\n",
        "    \"channel_code\", \"city\", \"city_type\",\n",
        "    \"okved\", \"segment\", \"start_cluster\",\n",
        "    \"index_city_code\", \"ogrn_month\", \"ogrn_year\",\n",
        "]"
      ]
    },
    {
      "cell_type": "code",
      "execution_count": 5,
      "id": "55766df7",
      "metadata": {},
      "outputs": [],
      "source": [
        "def m6_prepoc(data, type):\n",
        "    if type == 0:\n",
        "        tmp = data.drop(columns='end_cluster')\n",
        "        t1 = tmp.loc[tmp.date =='month_1']\n",
        "        t2 = tmp.loc[tmp.date =='month_2']\n",
        "        t3 = tmp.loc[tmp.date =='month_3']\n",
        "    elif type == 1:\n",
        "        tmp = data.copy()\n",
        "        t1 = tmp.loc[tmp.date =='month_4']\n",
        "        t2 = tmp.loc[tmp.date =='month_5']\n",
        "        t3 = tmp.loc[tmp.date =='month_6']\n",
        "    t1.reset_index(inplace=True, drop='index')\n",
        "    t2.reset_index(inplace=True, drop='index')\n",
        "    t3.reset_index(inplace=True, drop='index')\n",
        "    data_m3 = t1.merge(t2, on='id', how='right', suffixes=['_m1', '_m2'])\n",
        "    data_m3 = data_m3.merge(t3, on='id', how='right')\n",
        "    data_m3 = data_m3.drop(columns=['date', 'date_m2', 'date_m1'])\n",
        "\n",
        "    return data_m3\n"
      ]
    },
    {
      "cell_type": "code",
      "execution_count": 6,
      "id": "1474b700",
      "metadata": {},
      "outputs": [],
      "source": [
        "train_m3 = m6_prepoc(train_df, 0)\n",
        "test_m3 = m6_prepoc(test_df, 1)"
      ]
    },
    {
      "cell_type": "code",
      "execution_count": 7,
      "id": "0623a3af",
      "metadata": {},
      "outputs": [],
      "source": [
        "cat_l = ['channel_code_m1',\n",
        " 'city_m1',\n",
        " 'city_type_m1',\n",
        " 'index_city_code_m1',\n",
        " 'ogrn_month_m1',\n",
        " 'ogrn_year_m1',\n",
        " 'okved_m1',\n",
        " 'segment_m1',\n",
        " 'start_cluster_m1',\n",
        " 'channel_code_m2',\n",
        " 'city_m2',\n",
        " 'city_type_m2',\n",
        " 'index_city_code_m2',\n",
        " 'ogrn_month_m2',\n",
        " 'ogrn_year_m2',\n",
        " 'okved_m2',\n",
        " 'segment_m2',\n",
        " 'start_cluster_m2',\n",
        " 'channel_code',\n",
        " 'city',\n",
        " 'city_type',\n",
        " 'index_city_code',\n",
        " 'ogrn_month',\n",
        " 'ogrn_year',\n",
        " 'okved',\n",
        " 'segment',\n",
        " 'start_cluster']"
      ]
    },
    {
      "cell_type": "code",
      "execution_count": 8,
      "id": "cffcf7e2",
      "metadata": {},
      "outputs": [],
      "source": [
        "cat_feats = list(train_m3.select_dtypes(include=['object']).columns)\n",
        "num_feats = [col for col in train_m3.columns if col not in cat_feats and col != 'id']\n",
        "feats = cat_feats + num_feats"
      ]
    },
    {
      "cell_type": "code",
      "execution_count": 9,
      "id": "b97dba88",
      "metadata": {},
      "outputs": [],
      "source": [
        "for feat in cat_feats:\n",
        "    train_m3[feat] = train_m3[feat].fillna('GOD')\n",
        "    test_m3[feat] = test_m3[feat].fillna('GOD')\n",
        "\n",
        "for feat in num_feats:\n",
        "    train_m3[feat] = train_m3[feat].fillna(train_m3[feat].median())\n",
        "    test_m3[feat] = test_m3[feat].fillna(train_m3[feat].median())"
      ]
    },
    {
      "cell_type": "code",
      "execution_count": 10,
      "id": "67b3c432",
      "metadata": {},
      "outputs": [],
      "source": [
        "train_m3[cat_feats] = train_m3[cat_feats].astype(\"category\")\n",
        "test_m3[cat_feats] = test_m3[cat_feats].astype(\"category\")"
      ]
    },
    {
      "cell_type": "code",
      "execution_count": 11,
      "id": "c0b693a2",
      "metadata": {},
      "outputs": [
        {
          "name": "stderr",
          "output_type": "stream",
          "text": [
            "<ipython-input-11-628b0c7a9e31>:1: PerformanceWarning: DataFrame is highly fragmented.  This is usually the result of calling `frame.insert` many times, which has poor performance.  Consider joining all columns at once using pd.concat(axis=1) instead. To get a de-fragmented frame, use `newframe = frame.copy()`\n",
            "  train_m3[\"end_cluster\"] = train_df.loc[train_df.date =='month_3'].reset_index()[\"end_cluster\"]\n"
          ]
        }
      ],
      "source": [
        "train_m3[\"end_cluster\"] = train_df.loc[train_df.date =='month_3'].reset_index()[\"end_cluster\"]"
      ]
    },
    {
      "cell_type": "code",
      "execution_count": 12,
      "id": "62cc7f01",
      "metadata": {},
      "outputs": [],
      "source": [
        "train_m3 = train_m3[cat_feats + [\"end_cluster\"]].drop_duplicates()"
      ]
    },
    {
      "cell_type": "code",
      "execution_count": 13,
      "id": "375e474a",
      "metadata": {},
      "outputs": [],
      "source": [
        "# cat_feats.remove('start_cluster')"
      ]
    },
    {
      "cell_type": "code",
      "execution_count": 14,
      "id": "fb6d0c19",
      "metadata": {},
      "outputs": [],
      "source": [
        "# from sklearn.preprocessing import LabelEncoder\n",
        "# from sklearn.preprocessing import normalize\n",
        "# le = LabelEncoder()\n",
        "# for feat in cat_feats:\n",
        "#     le.fit(pd.concat([train_m3[feat], test_m3[feat]]))\n",
        "#     train_m3[feat] = le.transform(train_m3[feat])\n",
        "#     test_m3[feat] = le.transform(test_m3[feat])"
      ]
    },
    {
      "cell_type": "code",
      "execution_count": 15,
      "id": "fe4394e1",
      "metadata": {},
      "outputs": [],
      "source": [
        "# def feats_filter_nunique(df: pd.DataFrame,\n",
        "#                          features: list,\n",
        "#                          unique_threshold: float):\n",
        "#     cols_to_leave = []\n",
        "#     for feat in features:\n",
        "#         if df[feat].nunique() >= 2 and df[feat].astype(str).value_counts(1).values[0] < unique_threshold:\n",
        "#             cols_to_leave += [feat]\n",
        "#     return cols_to_leave\n",
        "# print(len(feats))\n",
        "# feats = feats_filter_nunique(train_m3, feats, 0.95)\n",
        "# num_feat = [feat for feat in num_feats if feat in feats]\n",
        "# cat_feat = [feat for feat in cat_feats if feat in feats]\n",
        "# len(feats)\n",
        "\n",
        "# def feats_filter_corr(df: pd.DataFrame,\n",
        "#                       features: list,\n",
        "#                       corr_threshold: float):\n",
        "#     nan_df = df[features].isna().mean(axis=0).reset_index().rename(columns={'index': 'col',\n",
        "#                                                                             0: 'nan_mean'}).sort_values(by = 'nan_mean', ascending = True)\n",
        "#     corr_df = train_m3[nan_df.col.values].corr().reset_index()\n",
        "#     to_drop_by_corr = set()\n",
        "#     for i, row in corr_df.iterrows():\n",
        "#         curr_cols = row[i+2:]\n",
        "#         curr_to_drop = set(curr_cols[curr_cols >= corr_threshold].index)\n",
        "#         to_drop_by_corr = to_drop_by_corr.union(curr_to_drop)\n",
        "#     cols_to_leave = [col for col in features if col not in to_drop_by_corr]\n",
        "#     return cols_to_leave, to_drop_by_corr\n",
        "# print(len(feats))\n",
        "# num_feat, droped = feats_filter_corr(train_m3, num_feat, 0.95)\n",
        "# feats = num_feat + cat_feat\n",
        "# print(droped)\n",
        "# len(feats)\n",
        "\n",
        "# from catboost import CatBoostClassifier\n",
        "# def feats_filter_random_feat(df: pd.DataFrame,\n",
        "#                              features: list,\n",
        "#                              cat_features: list):\n",
        "\n",
        "#     df['random'] = np.random.uniform(0, 1, train_m3.shape[0])\n",
        "\n",
        "#     simple_model = CatBoostClassifier(random_state = 42, verbose=False, early_stopping_rounds=50, cat_features=cat_features)\n",
        "#     simple_model.fit(df[features + ['random']], train_df.loc[train_df.date =='month_3'][\"end_cluster\"])\n",
        "#     model_importance = pd.DataFrame({'col': features + ['random'],\n",
        "#                       'importance': simple_model.get_feature_importance()})\n",
        "\n",
        "#     cols_to_leave = list(model_importance[model_importance['importance'] > \\\n",
        "#                                           model_importance.loc[model_importance['col'] == 'random', 'importance'].values[0]]['col'])\n",
        "\n",
        "#     return cols_to_leave\n",
        "\n",
        "# selected_features = feats_filter_random_feat(train_m3, feats, cat_feats)\n",
        "# selected_features_num = [feat for feat in num_feat if feat in selected_features]\n",
        "# selected_features_cat = [feat for feat in cat_feat if feat in selected_features]\n",
        "# len(selected_features)"
      ]
    },
    {
      "cell_type": "code",
      "execution_count": 16,
      "id": "037f054c",
      "metadata": {},
      "outputs": [],
      "source": [
        "X = train_m3[cat_feats].copy()\n",
        "y = train_m3.start_cluster\n",
        "\n",
        "X_test = test_m3[cat_feats].copy()"
      ]
    },
    {
      "cell_type": "code",
      "execution_count": 17,
      "id": "24c02b0f",
      "metadata": {},
      "outputs": [
        {
          "data": {
            "text/html": [
              "<style>#sk-container-id-1 {color: black;}#sk-container-id-1 pre{padding: 0;}#sk-container-id-1 div.sk-toggleable {background-color: white;}#sk-container-id-1 label.sk-toggleable__label {cursor: pointer;display: block;width: 100%;margin-bottom: 0;padding: 0.3em;box-sizing: border-box;text-align: center;}#sk-container-id-1 label.sk-toggleable__label-arrow:before {content: \"▸\";float: left;margin-right: 0.25em;color: #696969;}#sk-container-id-1 label.sk-toggleable__label-arrow:hover:before {color: black;}#sk-container-id-1 div.sk-estimator:hover label.sk-toggleable__label-arrow:before {color: black;}#sk-container-id-1 div.sk-toggleable__content {max-height: 0;max-width: 0;overflow: hidden;text-align: left;background-color: #f0f8ff;}#sk-container-id-1 div.sk-toggleable__content pre {margin: 0.2em;color: black;border-radius: 0.25em;background-color: #f0f8ff;}#sk-container-id-1 input.sk-toggleable__control:checked~div.sk-toggleable__content {max-height: 200px;max-width: 100%;overflow: auto;}#sk-container-id-1 input.sk-toggleable__control:checked~label.sk-toggleable__label-arrow:before {content: \"▾\";}#sk-container-id-1 div.sk-estimator input.sk-toggleable__control:checked~label.sk-toggleable__label {background-color: #d4ebff;}#sk-container-id-1 div.sk-label input.sk-toggleable__control:checked~label.sk-toggleable__label {background-color: #d4ebff;}#sk-container-id-1 input.sk-hidden--visually {border: 0;clip: rect(1px 1px 1px 1px);clip: rect(1px, 1px, 1px, 1px);height: 1px;margin: -1px;overflow: hidden;padding: 0;position: absolute;width: 1px;}#sk-container-id-1 div.sk-estimator {font-family: monospace;background-color: #f0f8ff;border: 1px dotted black;border-radius: 0.25em;box-sizing: border-box;margin-bottom: 0.5em;}#sk-container-id-1 div.sk-estimator:hover {background-color: #d4ebff;}#sk-container-id-1 div.sk-parallel-item::after {content: \"\";width: 100%;border-bottom: 1px solid gray;flex-grow: 1;}#sk-container-id-1 div.sk-label:hover label.sk-toggleable__label {background-color: #d4ebff;}#sk-container-id-1 div.sk-serial::before {content: \"\";position: absolute;border-left: 1px solid gray;box-sizing: border-box;top: 0;bottom: 0;left: 50%;z-index: 0;}#sk-container-id-1 div.sk-serial {display: flex;flex-direction: column;align-items: center;background-color: white;padding-right: 0.2em;padding-left: 0.2em;position: relative;}#sk-container-id-1 div.sk-item {position: relative;z-index: 1;}#sk-container-id-1 div.sk-parallel {display: flex;align-items: stretch;justify-content: center;background-color: white;position: relative;}#sk-container-id-1 div.sk-item::before, #sk-container-id-1 div.sk-parallel-item::before {content: \"\";position: absolute;border-left: 1px solid gray;box-sizing: border-box;top: 0;bottom: 0;left: 50%;z-index: -1;}#sk-container-id-1 div.sk-parallel-item {display: flex;flex-direction: column;z-index: 1;position: relative;background-color: white;}#sk-container-id-1 div.sk-parallel-item:first-child::after {align-self: flex-end;width: 50%;}#sk-container-id-1 div.sk-parallel-item:last-child::after {align-self: flex-start;width: 50%;}#sk-container-id-1 div.sk-parallel-item:only-child::after {width: 0;}#sk-container-id-1 div.sk-dashed-wrapped {border: 1px dashed gray;margin: 0 0.4em 0.5em 0.4em;box-sizing: border-box;padding-bottom: 0.4em;background-color: white;}#sk-container-id-1 div.sk-label label {font-family: monospace;font-weight: bold;display: inline-block;line-height: 1.2em;}#sk-container-id-1 div.sk-label-container {text-align: center;}#sk-container-id-1 div.sk-container {/* jupyter's `normalize.less` sets `[hidden] { display: none; }` but bootstrap.min.css set `[hidden] { display: none !important; }` so we also need the `!important` here to be able to override the default hidden behavior on the sphinx rendered scikit-learn.org. See: https://github.com/scikit-learn/scikit-learn/issues/21755 */display: inline-block !important;position: relative;}#sk-container-id-1 div.sk-text-repr-fallback {display: none;}</style><div id=\"sk-container-id-1\" class=\"sk-top-container\"><div class=\"sk-text-repr-fallback\"><pre>LGBMClassifier(n_jobs=-1, objective=&#x27;multiclass&#x27;, random_state=42, verbosity=-1)</pre><b>In a Jupyter environment, please rerun this cell to show the HTML representation or trust the notebook. <br />On GitHub, the HTML representation is unable to render, please try loading this page with nbviewer.org.</b></div><div class=\"sk-container\" hidden><div class=\"sk-item\"><div class=\"sk-estimator sk-toggleable\"><input class=\"sk-toggleable__control sk-hidden--visually\" id=\"sk-estimator-id-1\" type=\"checkbox\" checked><label for=\"sk-estimator-id-1\" class=\"sk-toggleable__label sk-toggleable__label-arrow\">LGBMClassifier</label><div class=\"sk-toggleable__content\"><pre>LGBMClassifier(n_jobs=-1, objective=&#x27;multiclass&#x27;, random_state=42, verbosity=-1)</pre></div></div></div></div></div>"
            ],
            "text/plain": [
              "LGBMClassifier(n_jobs=-1, objective='multiclass', random_state=42, verbosity=-1)"
            ]
          },
          "execution_count": 17,
          "metadata": {},
          "output_type": "execute_result"
        }
      ],
      "source": [
        "model = LGBMClassifier(verbosity=-1, random_state=42, n_jobs=-1, objective='multiclass', n_estimators=100)\n",
        "model.fit(X.drop(columns='start_cluster'), y)"
      ]
    },
    {
      "cell_type": "code",
      "execution_count": 18,
      "id": "f034f707",
      "metadata": {},
      "outputs": [],
      "source": [
        "test_m3['start_cluster'] = model.predict(X_test.drop(columns='start_cluster'))"
      ]
    },
    {
      "cell_type": "code",
      "execution_count": 19,
      "id": "93529e2a",
      "metadata": {},
      "outputs": [],
      "source": [
        "cluster_weights = pd.read_excel(\"cluster_weights.xlsx\").set_index(\"cluster\")\n",
        "weights_dict = cluster_weights[\"unnorm_weight\"].to_dict()"
      ]
    },
    {
      "cell_type": "code",
      "execution_count": 20,
      "id": "6badd1b7-0155-4c85-859d-f075800ede6e",
      "metadata": {
        "colab": {
          "base_uri": "https://localhost:8080/",
          "height": 74
        },
        "execution": {
          "iopub.execute_input": "2024-02-14T23:09:55.557916Z",
          "iopub.status.busy": "2024-02-14T23:09:55.557642Z",
          "iopub.status.idle": "2024-02-14T23:09:55.562656Z",
          "shell.execute_reply": "2024-02-14T23:09:55.562029Z",
          "shell.execute_reply.started": "2024-02-14T23:09:55.557878Z"
        },
        "id": "6badd1b7-0155-4c85-859d-f075800ede6e",
        "outputId": "9e5fde0f-da28-40a8-984a-f7bf1a94c82d",
        "tags": []
      },
      "outputs": [
        {
          "name": "stdout",
          "output_type": "stream",
          "text": [
            "Learning rate set to 0.181621\n",
            "0:\tlearn: 1.6541596\ttotal: 50.7ms\tremaining: 50.7s\n",
            "150:\tlearn: 0.9128110\ttotal: 6.88s\tremaining: 38.7s\n",
            "300:\tlearn: 0.8888888\ttotal: 13.5s\tremaining: 31.3s\n",
            "450:\tlearn: 0.8673083\ttotal: 20.3s\tremaining: 24.7s\n",
            "600:\tlearn: 0.8464170\ttotal: 27s\tremaining: 17.9s\n",
            "750:\tlearn: 0.8281356\ttotal: 33.5s\tremaining: 11.1s\n",
            "900:\tlearn: 0.8081534\ttotal: 40.5s\tremaining: 4.45s\n",
            "999:\tlearn: 0.7966253\ttotal: 45s\tremaining: 0us\n"
          ]
        },
        {
          "data": {
            "text/plain": [
              "0.8586308750676405"
            ]
          },
          "execution_count": 20,
          "metadata": {},
          "output_type": "execute_result"
        }
      ],
      "source": [
        "X = train_m3[cat_feats].copy()\n",
        "y = train_m3[\"end_cluster\"]\n",
        "\n",
        "x_train, x_val, y_train, y_val = train_test_split(X, y,\n",
        "                                                  test_size=0.2,\n",
        "                                                  random_state=42)\n",
        "model = CatBoostClassifier(verbose=150, random_state=42, cat_features=cat_feats, task_type='GPU')\n",
        "model.fit(x_train, y_train)\n",
        "y_pred_proba = model.predict_proba(x_val)\n",
        "y_pred_proba.shape\n",
        "weighted_roc_auc(y_val, y_pred_proba, model.classes_, weights_dict)"
      ]
    },
    {
      "cell_type": "code",
      "execution_count": 21,
      "id": "efc8b64a-86db-4564-af7b-be649612df82",
      "metadata": {
        "execution": {
          "iopub.execute_input": "2024-02-15T11:36:12.303553Z",
          "iopub.status.busy": "2024-02-15T11:36:12.302964Z",
          "iopub.status.idle": "2024-02-15T11:36:12.337469Z",
          "shell.execute_reply": "2024-02-15T11:36:12.336438Z",
          "shell.execute_reply.started": "2024-02-15T11:36:12.303513Z"
        },
        "id": "efc8b64a-86db-4564-af7b-be649612df82",
        "tags": []
      },
      "outputs": [],
      "source": [
        "sample_submission_df = pd.read_csv(\"sample_submission.csv\")"
      ]
    },
    {
      "cell_type": "code",
      "execution_count": 22,
      "id": "pnVPYVJNUi1f",
      "metadata": {
        "colab": {
          "base_uri": "https://localhost:8080/"
        },
        "id": "pnVPYVJNUi1f",
        "outputId": "b9233f45-64fc-4795-b7a0-b0eda8ec3609"
      },
      "outputs": [
        {
          "data": {
            "text/plain": [
              "(100000, 18)"
            ]
          },
          "execution_count": 22,
          "metadata": {},
          "output_type": "execute_result"
        }
      ],
      "source": [
        "sample_submission_df.shape"
      ]
    },
    {
      "cell_type": "code",
      "execution_count": 23,
      "id": "40be8220",
      "metadata": {},
      "outputs": [
        {
          "name": "stdout",
          "output_type": "stream",
          "text": [
            "Learning rate set to 0.19008\n",
            "0:\tlearn: 1.6146078\ttotal: 215ms\tremaining: 3m 34s\n",
            "150:\tlearn: 0.9157127\ttotal: 7.66s\tremaining: 43.1s\n",
            "300:\tlearn: 0.8957631\ttotal: 15s\tremaining: 34.8s\n",
            "450:\tlearn: 0.8765635\ttotal: 22.4s\tremaining: 27.2s\n",
            "600:\tlearn: 0.8585762\ttotal: 30s\tremaining: 19.9s\n",
            "750:\tlearn: 0.8411154\ttotal: 37.7s\tremaining: 12.5s\n",
            "900:\tlearn: 0.8230073\ttotal: 46s\tremaining: 5.06s\n",
            "999:\tlearn: 0.8131872\ttotal: 51.1s\tremaining: 0us\n"
          ]
        },
        {
          "data": {
            "text/plain": [
              "<catboost.core.CatBoostClassifier at 0x29003b48760>"
            ]
          },
          "execution_count": 23,
          "metadata": {},
          "output_type": "execute_result"
        }
      ],
      "source": [
        "model_final = CatBoostClassifier(verbose=150, random_state=42, cat_features=cat_feats, task_type='GPU')\n",
        "model_final.fit(X, y)"
      ]
    },
    {
      "cell_type": "code",
      "execution_count": 24,
      "id": "446b8c61",
      "metadata": {},
      "outputs": [],
      "source": [
        "# test_m3['start_cluster'] = test_m3['start_cluster_m2']"
      ]
    },
    {
      "cell_type": "code",
      "execution_count": 25,
      "id": "5585fd22-3b4f-44f5-a673-777fec4fedc5",
      "metadata": {
        "execution": {
          "iopub.execute_input": "2024-02-14T23:11:52.813319Z",
          "iopub.status.busy": "2024-02-14T23:11:52.813067Z",
          "iopub.status.idle": "2024-02-14T23:12:01.288281Z",
          "shell.execute_reply": "2024-02-14T23:12:01.287566Z",
          "shell.execute_reply.started": "2024-02-14T23:11:52.813300Z"
        },
        "id": "5585fd22-3b4f-44f5-a673-777fec4fedc5",
        "tags": []
      },
      "outputs": [],
      "source": [
        "test_pred_proba = model_final.predict_proba(test_m3[cat_feats])\n",
        "test_pred_proba_df = pd.DataFrame(test_pred_proba, columns=model.classes_)\n",
        "sorted_classes = sorted(test_pred_proba_df.columns.to_list())\n",
        "test_pred_proba_df = test_pred_proba_df[sorted_classes]"
      ]
    },
    {
      "cell_type": "code",
      "execution_count": 26,
      "id": "xUa5e3c4UcSe",
      "metadata": {
        "colab": {
          "base_uri": "https://localhost:8080/"
        },
        "id": "xUa5e3c4UcSe",
        "outputId": "dbfc0bd8-61c2-44c5-f56c-8031950cf2e3"
      },
      "outputs": [
        {
          "data": {
            "text/plain": [
              "(100000, 17)"
            ]
          },
          "execution_count": 26,
          "metadata": {},
          "output_type": "execute_result"
        }
      ],
      "source": [
        "test_pred_proba_df.shape"
      ]
    },
    {
      "cell_type": "code",
      "execution_count": 27,
      "id": "QqDRm_FB1oWF",
      "metadata": {
        "colab": {
          "base_uri": "https://localhost:8080/",
          "height": 201
        },
        "id": "QqDRm_FB1oWF",
        "outputId": "19fec5f6-7403-48db-c49a-e9b30f481e14"
      },
      "outputs": [
        {
          "data": {
            "text/html": [
              "<div>\n",
              "<style scoped>\n",
              "    .dataframe tbody tr th:only-of-type {\n",
              "        vertical-align: middle;\n",
              "    }\n",
              "\n",
              "    .dataframe tbody tr th {\n",
              "        vertical-align: top;\n",
              "    }\n",
              "\n",
              "    .dataframe thead th {\n",
              "        text-align: right;\n",
              "    }\n",
              "</style>\n",
              "<table border=\"1\" class=\"dataframe\">\n",
              "  <thead>\n",
              "    <tr style=\"text-align: right;\">\n",
              "      <th></th>\n",
              "      <th>{other}</th>\n",
              "      <th>{}</th>\n",
              "      <th>{α, β}</th>\n",
              "      <th>{α, γ}</th>\n",
              "      <th>{α, δ}</th>\n",
              "      <th>{α, ε, η}</th>\n",
              "      <th>{α, ε, θ}</th>\n",
              "      <th>{α, ε, ψ}</th>\n",
              "      <th>{α, ε}</th>\n",
              "      <th>{α, η}</th>\n",
              "      <th>{α, θ}</th>\n",
              "      <th>{α, λ}</th>\n",
              "      <th>{α, μ}</th>\n",
              "      <th>{α, π}</th>\n",
              "      <th>{α, ψ}</th>\n",
              "      <th>{α}</th>\n",
              "      <th>{λ}</th>\n",
              "    </tr>\n",
              "  </thead>\n",
              "  <tbody>\n",
              "    <tr>\n",
              "      <th>0</th>\n",
              "      <td>0.004693</td>\n",
              "      <td>0.129156</td>\n",
              "      <td>0.020204</td>\n",
              "      <td>0.010316</td>\n",
              "      <td>0.000941</td>\n",
              "      <td>0.000022</td>\n",
              "      <td>0.000068</td>\n",
              "      <td>0.000004</td>\n",
              "      <td>0.001943</td>\n",
              "      <td>0.002913</td>\n",
              "      <td>0.003948</td>\n",
              "      <td>0.000049</td>\n",
              "      <td>0.000641</td>\n",
              "      <td>4.105080e-07</td>\n",
              "      <td>0.000547</td>\n",
              "      <td>0.824434</td>\n",
              "      <td>0.000119</td>\n",
              "    </tr>\n",
              "    <tr>\n",
              "      <th>1</th>\n",
              "      <td>0.012453</td>\n",
              "      <td>0.263004</td>\n",
              "      <td>0.004020</td>\n",
              "      <td>0.009359</td>\n",
              "      <td>0.001460</td>\n",
              "      <td>0.000078</td>\n",
              "      <td>0.012816</td>\n",
              "      <td>0.000069</td>\n",
              "      <td>0.003734</td>\n",
              "      <td>0.018457</td>\n",
              "      <td>0.004012</td>\n",
              "      <td>0.000583</td>\n",
              "      <td>0.002538</td>\n",
              "      <td>5.381956e-08</td>\n",
              "      <td>0.000284</td>\n",
              "      <td>0.667125</td>\n",
              "      <td>0.000008</td>\n",
              "    </tr>\n",
              "  </tbody>\n",
              "</table>\n",
              "</div>"
            ],
            "text/plain": [
              "    {other}        {}    {α, β}    {α, γ}    {α, δ}  {α, ε, η}  {α, ε, θ}  \\\n",
              "0  0.004693  0.129156  0.020204  0.010316  0.000941   0.000022   0.000068   \n",
              "1  0.012453  0.263004  0.004020  0.009359  0.001460   0.000078   0.012816   \n",
              "\n",
              "   {α, ε, ψ}    {α, ε}    {α, η}    {α, θ}    {α, λ}    {α, μ}        {α, π}  \\\n",
              "0   0.000004  0.001943  0.002913  0.003948  0.000049  0.000641  4.105080e-07   \n",
              "1   0.000069  0.003734  0.018457  0.004012  0.000583  0.002538  5.381956e-08   \n",
              "\n",
              "     {α, ψ}       {α}       {λ}  \n",
              "0  0.000547  0.824434  0.000119  \n",
              "1  0.000284  0.667125  0.000008  "
            ]
          },
          "execution_count": 27,
          "metadata": {},
          "output_type": "execute_result"
        }
      ],
      "source": [
        "test_pred_proba_df.head(2)"
      ]
    },
    {
      "cell_type": "code",
      "execution_count": 28,
      "id": "a6fbe390-7b56-45a9-8e5b-ab43f9bb7dfc",
      "metadata": {
        "execution": {
          "iopub.execute_input": "2024-02-14T23:12:01.294283Z",
          "iopub.status.busy": "2024-02-14T23:12:01.293888Z",
          "iopub.status.idle": "2024-02-14T23:12:01.382141Z",
          "shell.execute_reply": "2024-02-14T23:12:01.381647Z",
          "shell.execute_reply.started": "2024-02-14T23:12:01.294266Z"
        },
        "id": "a6fbe390-7b56-45a9-8e5b-ab43f9bb7dfc",
        "tags": []
      },
      "outputs": [],
      "source": [
        "sample_submission_df = pd.read_csv(\"sample_submission.csv\")\n",
        "sample_submission_df[sorted_classes] = test_pred_proba_df\n",
        "sample_submission_df.to_csv(\"baseline_submission_123.csv\", index=False)"
      ]
    }
  ],
  "metadata": {
    "colab": {
      "provenance": []
    },
    "kernelspec": {
      "display_name": "python3",
      "language": "python",
      "name": "python3"
    },
    "language_info": {
      "codemirror_mode": {
        "name": "ipython",
        "version": 3
      },
      "file_extension": ".py",
      "mimetype": "text/x-python",
      "name": "python",
      "nbconvert_exporter": "python",
      "pygments_lexer": "ipython3",
      "version": "3.9.18"
    }
  },
  "nbformat": 4,
  "nbformat_minor": 5
}
